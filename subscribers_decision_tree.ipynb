{
 "cells": [
  {
   "cell_type": "code",
   "execution_count": 1,
   "metadata": {},
   "outputs": [],
   "source": [
    "import pandas\n",
    "import pandas as pd\n",
    "from sklearn import tree\n",
    "import pydotplus\n",
    "from pydotplus import graph_from_dot_data\n",
    "from sklearn.tree import DecisionTreeClassifier\n",
    "import matplotlib.pyplot as plt\n",
    "import matplotlib.image as pltimg\n",
    "from sklearn.tree import export_graphviz"
   ]
  },
  {
   "cell_type": "code",
   "execution_count": 2,
   "metadata": {},
   "outputs": [
    {
     "data": {
      "text/html": [
       "<div>\n",
       "<style scoped>\n",
       "    .dataframe tbody tr th:only-of-type {\n",
       "        vertical-align: middle;\n",
       "    }\n",
       "\n",
       "    .dataframe tbody tr th {\n",
       "        vertical-align: top;\n",
       "    }\n",
       "\n",
       "    .dataframe thead th {\n",
       "        text-align: right;\n",
       "    }\n",
       "</style>\n",
       "<table border=\"1\" class=\"dataframe\">\n",
       "  <thead>\n",
       "    <tr style=\"text-align: right;\">\n",
       "      <th></th>\n",
       "      <th>Age</th>\n",
       "      <th>Sex</th>\n",
       "      <th>Income</th>\n",
       "      <th>Residence</th>\n",
       "      <th>Subscribes</th>\n",
       "    </tr>\n",
       "  </thead>\n",
       "  <tbody>\n",
       "    <tr>\n",
       "      <th>0</th>\n",
       "      <td>senior</td>\n",
       "      <td>M</td>\n",
       "      <td>low</td>\n",
       "      <td>country</td>\n",
       "      <td>1</td>\n",
       "    </tr>\n",
       "    <tr>\n",
       "      <th>1</th>\n",
       "      <td>young adult</td>\n",
       "      <td>M</td>\n",
       "      <td>low</td>\n",
       "      <td>suburb</td>\n",
       "      <td>0</td>\n",
       "    </tr>\n",
       "    <tr>\n",
       "      <th>2</th>\n",
       "      <td>gen. X</td>\n",
       "      <td>F</td>\n",
       "      <td>low</td>\n",
       "      <td>suburb</td>\n",
       "      <td>0</td>\n",
       "    </tr>\n",
       "    <tr>\n",
       "      <th>3</th>\n",
       "      <td>young adult</td>\n",
       "      <td>F</td>\n",
       "      <td>low</td>\n",
       "      <td>suburb</td>\n",
       "      <td>0</td>\n",
       "    </tr>\n",
       "    <tr>\n",
       "      <th>4</th>\n",
       "      <td>gen. X</td>\n",
       "      <td>M</td>\n",
       "      <td>high</td>\n",
       "      <td>city</td>\n",
       "      <td>1</td>\n",
       "    </tr>\n",
       "  </tbody>\n",
       "</table>\n",
       "</div>"
      ],
      "text/plain": [
       "           Age Sex Income Residence  Subscribes\n",
       "0       senior   M    low   country           1\n",
       "1  young adult   M    low    suburb           0\n",
       "2       gen. X   F    low    suburb           0\n",
       "3  young adult   F    low    suburb           0\n",
       "4       gen. X   M   high      city           1"
      ]
     },
     "execution_count": 2,
     "metadata": {},
     "output_type": "execute_result"
    }
   ],
   "source": [
    "df = pd.read_csv(r\"C:\\Users\\yuanhao.hsu\\Desktop\\subscribers\\subscribers.csv\")\n",
    "df.head()"
   ]
  },
  {
   "cell_type": "code",
   "execution_count": 3,
   "metadata": {},
   "outputs": [
    {
     "name": "stdout",
     "output_type": "stream",
     "text": [
      "      Age  Sex  Income  Residence  Subscribes\n",
      "0       3    0       1          2           1\n",
      "1       2    0       1          3           0\n",
      "2       1    1       1          3           0\n",
      "3       2    1       1          3           0\n",
      "4       1    0       3          1           1\n",
      "...   ...  ...     ...        ...         ...\n",
      "1019    2    0       2          3           0\n",
      "1020    1    0       2          2           1\n",
      "1021    1    1       1          3           0\n",
      "1022    0    0       1          1           0\n",
      "1023    2    0       2          1           1\n",
      "\n",
      "[1024 rows x 5 columns]\n"
     ]
    }
   ],
   "source": [
    "d ={'adult':0, 'gen. X':1, 'young adult':2, 'senior':3}\n",
    "df['Age'] = df['Age'].map(d)\n",
    "\n",
    "d1= {'M':0,'F':1}\n",
    "df['Sex'] = df['Sex'].map(d1)\n",
    "\n",
    "d2 ={'low':1,'average':2,'high':3}\n",
    "df['Income'] = df['Income'].map(d2)\n",
    "\n",
    "d3={'city':1,'country':2,'suburb':3}\n",
    "df['Residence'] = df['Residence'].map(d3)\n",
    "\n",
    "print(df)"
   ]
  },
  {
   "cell_type": "code",
   "execution_count": 4,
   "metadata": {},
   "outputs": [
    {
     "name": "stdout",
     "output_type": "stream",
     "text": [
      "      Age  Sex  Income  Residence\n",
      "0       3    0       1          2\n",
      "1       2    0       1          3\n",
      "2       1    1       1          3\n",
      "3       2    1       1          3\n",
      "4       1    0       3          1\n",
      "...   ...  ...     ...        ...\n",
      "1019    2    0       2          3\n",
      "1020    1    0       2          2\n",
      "1021    1    1       1          3\n",
      "1022    0    0       1          1\n",
      "1023    2    0       2          1\n",
      "\n",
      "[1024 rows x 4 columns]\n",
      "0       1\n",
      "1       0\n",
      "2       0\n",
      "3       0\n",
      "4       1\n",
      "       ..\n",
      "1019    0\n",
      "1020    1\n",
      "1021    0\n",
      "1022    0\n",
      "1023    1\n",
      "Name: Subscribes, Length: 1024, dtype: int64\n"
     ]
    }
   ],
   "source": [
    "features = ['Age','Sex','Income','Residence']\n",
    "x = df[features]\n",
    "y = df['Subscribes']\n",
    "print(x)\n",
    "print(y)"
   ]
  },
  {
   "cell_type": "code",
   "execution_count": 5,
   "metadata": {},
   "outputs": [
    {
     "data": {
      "image/png": "[encoded data removed]",
      "text/plain": [
       "<Figure size 432x288 with 1 Axes>"
      ]
     },
     "metadata": {
      "needs_background": "light"
     },
     "output_type": "display_data"
    }
   ],
   "source": [
    "dtree = DecisionTreeClassifier()\n",
    "dtree = dtree.fit(x, y)\n",
    "data = tree.export_graphviz(dtree, out_file=None, feature_names=features)\n",
    "graph = pydotplus.graph_from_dot_data(data)\n",
    "graph.write_png('mydecisiontree.png')\n",
    "\n",
    "img=pltimg.imread('mydecisiontree.png')\n",
    "imgplot = plt.imshow(img)\n",
    "plt.show()"
   ]
  },
  {
   "cell_type": "code",
   "execution_count": null,
   "metadata": {},
   "outputs": [],
   "source": []
  }
 ],
 "metadata": {
  "kernelspec": {
   "display_name": "Python 3",
   "language": "python",
   "name": "python3"
  },
  "language_info": {
   "codemirror_mode": {
    "name": "ipython",
    "version": 3
   },
   "file_extension": ".py",
   "mimetype": "text/x-python",
   "name": "python",
   "nbconvert_exporter": "python",
   "pygments_lexer": "ipython3",
   "version": "3.8.5"
  }
 },
 "nbformat": 4,
 "nbformat_minor": 4
}
