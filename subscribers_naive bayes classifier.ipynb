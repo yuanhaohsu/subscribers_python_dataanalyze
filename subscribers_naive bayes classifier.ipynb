{
 "cells": [
  {
   "cell_type": "code",
   "execution_count": 3,
   "metadata": {},
   "outputs": [],
   "source": [
    "import numpy as np\n",
    "import pandas as pd\n",
    "from sklearn.naive_bayes import GaussianNB\n",
    "from sklearn.preprocessing import LabelEncoder\n",
    "from sklearn.model_selection import train_test_split\n",
    "from sklearn.metrics import accuracy_score"
   ]
  },
  {
   "cell_type": "code",
   "execution_count": 4,
   "metadata": {},
   "outputs": [
    {
     "data": {
      "text/html": [
       "<div>\n",
       "<style scoped>\n",
       "    .dataframe tbody tr th:only-of-type {\n",
       "        vertical-align: middle;\n",
       "    }\n",
       "\n",
       "    .dataframe tbody tr th {\n",
       "        vertical-align: top;\n",
       "    }\n",
       "\n",
       "    .dataframe thead th {\n",
       "        text-align: right;\n",
       "    }\n",
       "</style>\n",
       "<table border=\"1\" class=\"dataframe\">\n",
       "  <thead>\n",
       "    <tr style=\"text-align: right;\">\n",
       "      <th></th>\n",
       "      <th>Age</th>\n",
       "      <th>Sex</th>\n",
       "      <th>Income</th>\n",
       "      <th>Residence</th>\n",
       "      <th>Subscribes</th>\n",
       "    </tr>\n",
       "  </thead>\n",
       "  <tbody>\n",
       "    <tr>\n",
       "      <th>0</th>\n",
       "      <td>senior</td>\n",
       "      <td>M</td>\n",
       "      <td>low</td>\n",
       "      <td>country</td>\n",
       "      <td>1</td>\n",
       "    </tr>\n",
       "    <tr>\n",
       "      <th>1</th>\n",
       "      <td>young adult</td>\n",
       "      <td>M</td>\n",
       "      <td>low</td>\n",
       "      <td>suburb</td>\n",
       "      <td>0</td>\n",
       "    </tr>\n",
       "    <tr>\n",
       "      <th>2</th>\n",
       "      <td>gen. X</td>\n",
       "      <td>F</td>\n",
       "      <td>low</td>\n",
       "      <td>suburb</td>\n",
       "      <td>0</td>\n",
       "    </tr>\n",
       "    <tr>\n",
       "      <th>3</th>\n",
       "      <td>young adult</td>\n",
       "      <td>F</td>\n",
       "      <td>low</td>\n",
       "      <td>suburb</td>\n",
       "      <td>0</td>\n",
       "    </tr>\n",
       "    <tr>\n",
       "      <th>4</th>\n",
       "      <td>gen. X</td>\n",
       "      <td>M</td>\n",
       "      <td>high</td>\n",
       "      <td>city</td>\n",
       "      <td>1</td>\n",
       "    </tr>\n",
       "  </tbody>\n",
       "</table>\n",
       "</div>"
      ],
      "text/plain": [
       "           Age Sex Income Residence  Subscribes\n",
       "0       senior   M    low   country           1\n",
       "1  young adult   M    low    suburb           0\n",
       "2       gen. X   F    low    suburb           0\n",
       "3  young adult   F    low    suburb           0\n",
       "4       gen. X   M   high      city           1"
      ]
     },
     "execution_count": 4,
     "metadata": {},
     "output_type": "execute_result"
    }
   ],
   "source": [
    "df = pd.read_excel(r\"C:\\Users\\yuanhao.hsu\\Desktop\\subscribers\\subscribers.xlsx\")\n",
    "df.head()"
   ]
  },
  {
   "cell_type": "code",
   "execution_count": 6,
   "metadata": {},
   "outputs": [],
   "source": [
    "number = LabelEncoder()\n",
    "\n",
    "df ['Age'] = number.fit_transform(df['Age'])\n",
    "\n",
    "df ['Sex'] = number.fit_transform(df['Sex'])\n",
    "\n",
    "df ['Income'] = number.fit_transform(df['Income'])\n",
    "\n",
    "df ['Residence'] = number.fit_transform(df['Residence'])\n",
    "\n",
    "df ['Subscribes'] = number.fit_transform(df['Subscribes'])"
   ]
  },
  {
   "cell_type": "code",
   "execution_count": 7,
   "metadata": {},
   "outputs": [],
   "source": [
    "features = ['Age','Sex','Income','Residence']\n",
    "target = ['Subscribes']"
   ]
  },
  {
   "cell_type": "code",
   "execution_count": 8,
   "metadata": {},
   "outputs": [],
   "source": [
    "features_train, features_test, target_train, target_test = train_test_split(df[features],df[target],\n",
    "test_size = 0.33,\n",
    "random_state = 54)\n"
   ]
  },
  {
   "cell_type": "code",
   "execution_count": 9,
   "metadata": {},
   "outputs": [],
   "source": [
    "model = GaussianNB()\n",
    "mdoe1 = model.fit(features_train, target_train.values.ravel())\n"
   ]
  },
  {
   "cell_type": "code",
   "execution_count": 10,
   "metadata": {},
   "outputs": [],
   "source": [
    "pred = model.predict(features_test)\n",
    "accuracy = accuracy_score(target_test, pred)\n"
   ]
  },
  {
   "cell_type": "code",
   "execution_count": 25,
   "metadata": {},
   "outputs": [
    {
     "name": "stdout",
     "output_type": "stream",
     "text": [
      "     Age  Sex  Income  Residence\n",
      "92     0    0       0          2\n",
      "438    3    1       2          2\n",
      "607    3    1       0          2\n",
      "291    0    0       2          2\n",
      "677    1    1       0          0\n",
      "..   ...  ...     ...        ...\n",
      "301    3    1       0          2\n",
      "40     2    0       2          2\n",
      "727    1    0       0          0\n",
      "856    1    0       0          2\n",
      "631    1    0       0          0\n",
      "\n",
      "[338 rows x 4 columns]      Subscribes\n",
      "92            1\n",
      "438           0\n",
      "607           1\n",
      "291           0\n",
      "677           1\n",
      "..          ...\n",
      "301           1\n",
      "40            1\n",
      "727           0\n",
      "856           0\n",
      "631           0\n",
      "\n",
      "[338 rows x 1 columns]\n"
     ]
    }
   ],
   "source": [
    "print(features_test,target_test)"
   ]
  },
  {
   "cell_type": "code",
   "execution_count": 1,
   "metadata": {},
   "outputs": [],
   "source": [
    "#print model.predict([[1,2,0,1]])"
   ]
  }
 ],
 "metadata": {
  "kernelspec": {
   "display_name": "Python 3",
   "language": "python",
   "name": "python3"
  },
  "language_info": {
   "codemirror_mode": {
    "name": "ipython",
    "version": 3
   },
   "file_extension": ".py",
   "mimetype": "text/x-python",
   "name": "python",
   "nbconvert_exporter": "python",
   "pygments_lexer": "ipython3",
   "version": "3.8.5"
  }
 },
 "nbformat": 4,
 "nbformat_minor": 4
}
