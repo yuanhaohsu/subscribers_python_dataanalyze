{
 "cells": [
  {
   "cell_type": "code",
   "execution_count": 47,
   "metadata": {},
   "outputs": [],
   "source": [
    "import numpy as np\n",
    "import pandas as pd\n",
    "from sklearn.model_selection import train_test_split\n",
    "from sklearn.naive_bayes import GaussianNB\n",
    "from sklearn.metrics import accuracy_score\n",
    "import matplotlib.pyplot as plt\n",
    "import seaborn as sns\n",
    "\n",
    "import numpy as np\n",
    "import pandas as pd\n",
    "from sklearn.model_selection import train_test_split\n",
    "from sklearn.naive_bayes import GaussianNB\n",
    "from sklearn.metrics import accuracy_score\n",
    "import matplotlib.pyplot as plt\n",
    "import seaborn as sns\n",
    "# https://www.analyticsvidhya.com/blog/2021/01/a-guide-to-the-naive-bayes-algorithm/\n",
    "# https://heartbeat.fritz.ai/naive-bayes-classifier-in-python-using-scikit-learn-13c4deb83bcf"
   ]
  },
  {
   "cell_type": "code",
   "execution_count": 55,
   "metadata": {},
   "outputs": [
    {
     "data": {
      "text/html": [
       "<div>\n",
       "<style scoped>\n",
       "    .dataframe tbody tr th:only-of-type {\n",
       "        vertical-align: middle;\n",
       "    }\n",
       "\n",
       "    .dataframe tbody tr th {\n",
       "        vertical-align: top;\n",
       "    }\n",
       "\n",
       "    .dataframe thead th {\n",
       "        text-align: right;\n",
       "    }\n",
       "</style>\n",
       "<table border=\"1\" class=\"dataframe\">\n",
       "  <thead>\n",
       "    <tr style=\"text-align: right;\">\n",
       "      <th></th>\n",
       "      <th>Age</th>\n",
       "      <th>Sex</th>\n",
       "      <th>Income</th>\n",
       "      <th>Residence</th>\n",
       "      <th>Subscribes</th>\n",
       "    </tr>\n",
       "  </thead>\n",
       "  <tbody>\n",
       "    <tr>\n",
       "      <th>0</th>\n",
       "      <td>senior</td>\n",
       "      <td>M</td>\n",
       "      <td>low</td>\n",
       "      <td>country</td>\n",
       "      <td>1</td>\n",
       "    </tr>\n",
       "    <tr>\n",
       "      <th>1</th>\n",
       "      <td>young adult</td>\n",
       "      <td>M</td>\n",
       "      <td>low</td>\n",
       "      <td>suburb</td>\n",
       "      <td>0</td>\n",
       "    </tr>\n",
       "    <tr>\n",
       "      <th>2</th>\n",
       "      <td>gen. X</td>\n",
       "      <td>F</td>\n",
       "      <td>low</td>\n",
       "      <td>suburb</td>\n",
       "      <td>0</td>\n",
       "    </tr>\n",
       "    <tr>\n",
       "      <th>3</th>\n",
       "      <td>young adult</td>\n",
       "      <td>F</td>\n",
       "      <td>low</td>\n",
       "      <td>suburb</td>\n",
       "      <td>0</td>\n",
       "    </tr>\n",
       "    <tr>\n",
       "      <th>4</th>\n",
       "      <td>gen. X</td>\n",
       "      <td>M</td>\n",
       "      <td>high</td>\n",
       "      <td>city</td>\n",
       "      <td>1</td>\n",
       "    </tr>\n",
       "  </tbody>\n",
       "</table>\n",
       "</div>"
      ],
      "text/plain": [
       "           Age Sex Income Residence  Subscribes\n",
       "0       senior   M    low   country           1\n",
       "1  young adult   M    low    suburb           0\n",
       "2       gen. X   F    low    suburb           0\n",
       "3  young adult   F    low    suburb           0\n",
       "4       gen. X   M   high      city           1"
      ]
     },
     "execution_count": 55,
     "metadata": {},
     "output_type": "execute_result"
    }
   ],
   "source": [
    "df = pd.read_csv(r\"C:\\Users\\yuanhao.hsu\\Desktop\\subscribers\\subscribers.csv\")\n",
    "df.head()"
   ]
  },
  {
   "cell_type": "code",
   "execution_count": 56,
   "metadata": {},
   "outputs": [
    {
     "name": "stdout",
     "output_type": "stream",
     "text": [
      "      Age  Sex  Income  Residence  Subscribes\n",
      "0       3    0       1          2           1\n",
      "1       2    0       1          3           0\n",
      "2       1    1       1          3           0\n",
      "3       2    1       1          3           0\n",
      "4       1    0       3          1           1\n",
      "...   ...  ...     ...        ...         ...\n",
      "1019    2    0       2          3           0\n",
      "1020    1    0       2          2           1\n",
      "1021    1    1       1          3           0\n",
      "1022    0    0       1          1           0\n",
      "1023    2    0       2          1           1\n",
      "\n",
      "[1024 rows x 5 columns]\n"
     ]
    }
   ],
   "source": [
    "d ={'adult':0, 'gen. X':1, 'young adult':2, 'senior':3}\n",
    "df['Age'] = df['Age'].map(d)\n",
    "\n",
    "d1= {'M':0,'F':1}\n",
    "df['Sex'] = df['Sex'].map(d1)\n",
    "\n",
    "d2 ={'low':1,'average':2,'high':3}\n",
    "df['Income'] = df['Income'].map(d2)\n",
    "\n",
    "d3={'city':1,'country':2,'suburb':3}\n",
    "df['Residence'] = df['Residence'].map(d3)\n",
    "\n",
    "print(df)"
   ]
  },
  {
   "cell_type": "code",
   "execution_count": 57,
   "metadata": {},
   "outputs": [],
   "source": [
    "x = df.drop('Subscribes', axis=1)\n",
    "y = df['Subscribes']\n",
    "x_train, x_test, y_train, y_test = train_test_split(x, y, test_size=0.25, random_state=42)"
   ]
  },
  {
   "cell_type": "code",
   "execution_count": 58,
   "metadata": {},
   "outputs": [
    {
     "data": {
      "text/plain": [
       "GaussianNB()"
      ]
     },
     "execution_count": 58,
     "metadata": {},
     "output_type": "execute_result"
    }
   ],
   "source": [
    "model = GaussianNB()\n",
    "model.fit(x_train, y_train)"
   ]
  }
 ],
 "metadata": {
  "kernelspec": {
   "display_name": "Python 3",
   "language": "python",
   "name": "python3"
  },
  "language_info": {
   "codemirror_mode": {
    "name": "ipython",
    "version": 3
   },
   "file_extension": ".py",
   "mimetype": "text/x-python",
   "name": "python",
   "nbconvert_exporter": "python",
   "pygments_lexer": "ipython3",
   "version": "3.8.5"
  }
 },
 "nbformat": 4,
 "nbformat_minor": 4
}
